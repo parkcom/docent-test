{
 "cells": [
  {
   "cell_type": "code",
   "execution_count": 5,
   "metadata": {},
   "outputs": [
    {
     "name": "stdout",
     "output_type": "stream",
     "text": [
      "ChatCompletion(id='chatcmpl-AVskwfG1nJ2zuHJ7OG813t4p93R4G', choices=[Choice(finish_reason='stop', index=0, logprobs=None, message=ChatCompletionMessage(content='이 이미지는 넓은 초원과 푸른 하늘이 어우러진 자연 풍경을 보여주고 있습니다. 중앙에는 나무로 만들어진 보도블럭이 뻗어 있어, 초원 속으로 나아가는 길을 나타냅니다. 초원은 싱그러운 풀과 다양한 식물들로 덮여 있으며, 배경에는 나무들이 자생하고 있습니다. 하늘은 맑고 푸르며, 몇 개의 구름이 흩어져 있습니다. 전반적으로 평화롭고 고요한 느낌을 주는 아름다운 자연 경관입니다.', refusal=None, role='assistant', audio=None, function_call=None, tool_calls=None))], created=1732162014, model='gpt-4o-mini-2024-07-18', object='chat.completion', service_tier=None, system_fingerprint='fp_3de1288069', usage=CompletionUsage(completion_tokens=133, prompt_tokens=36850, total_tokens=36983, completion_tokens_details=CompletionTokensDetails(accepted_prediction_tokens=0, audio_tokens=0, reasoning_tokens=0, rejected_prediction_tokens=0), prompt_tokens_details=PromptTokensDetails(audio_tokens=0, cached_tokens=1024)))\n",
      "이 이미지는 넓은 초원과 푸른 하늘이 어우러진 자연 풍경을 보여주고 있습니다. 중앙에는 나무로 만들어진 보도블럭이 뻗어 있어, 초원 속으로 나아가는 길을 나타냅니다. 초원은 싱그러운 풀과 다양한 식물들로 덮여 있으며, 배경에는 나무들이 자생하고 있습니다. 하늘은 맑고 푸르며, 몇 개의 구름이 흩어져 있습니다. 전반적으로 평화롭고 고요한 느낌을 주는 아름다운 자연 경관입니다.\n",
      "CompletionUsage(completion_tokens=133, prompt_tokens=36850, total_tokens=36983, completion_tokens_details=CompletionTokensDetails(accepted_prediction_tokens=0, audio_tokens=0, reasoning_tokens=0, rejected_prediction_tokens=0), prompt_tokens_details=PromptTokensDetails(audio_tokens=0, cached_tokens=1024))\n"
     ]
    }
   ],
   "source": [
    "from openai import OpenAI\n",
    "import os\n",
    "\n",
    "client = OpenAI(api_key = os.getenv(\"OPENAI_API_KEY\"))\n",
    "\n",
    "response = client.chat.completions.create(\n",
    "    model= 'gpt-4o-mini',\n",
    "    messages=[\n",
    "        {\n",
    "            \"role\": \"user\",\n",
    "            \"content\": [\n",
    "                {\n",
    "                    \"type\": \"text\",\n",
    "                    \"text\" : \"이 이미지에 대해서 설명해줘.\"\n",
    "                },\n",
    "                {\n",
    "                    \"type\": \"image_url\",\n",
    "                    \"image_url\" :\n",
    "                        {\n",
    "                            'url': \"https://upload.wikimedia.org/wikipedia/commons/d/dd/Gfp-wisconsin-madison-the-nature-boardwalk.jpg\"\n",
    "                        }\n",
    "                }\n",
    "            ]\n",
    "        },\n",
    "\n",
    "    ],\n",
    "    max_tokens=300\n",
    ")\n",
    "\n",
    "print(response)\n",
    "print(response.choices[0].message.content)\n",
    "print(response.usage)"
   ]
  },
  {
   "cell_type": "code",
   "execution_count": null,
   "metadata": {},
   "outputs": [],
   "source": []
  }
 ],
 "metadata": {
  "kernelspec": {
   "display_name": ".venv",
   "language": "python",
   "name": "python3"
  },
  "language_info": {
   "codemirror_mode": {
    "name": "ipython",
    "version": 3
   },
   "file_extension": ".py",
   "mimetype": "text/x-python",
   "name": "python",
   "nbconvert_exporter": "python",
   "pygments_lexer": "ipython3",
   "version": "3.12.0"
  }
 },
 "nbformat": 4,
 "nbformat_minor": 2
}
